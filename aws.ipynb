{
  "nbformat": 4,
  "nbformat_minor": 0,
  "metadata": {
    "colab": {
      "provenance": [],
      "authorship_tag": "ABX9TyOVOtA2/DFeWlFhwZ/YJC8d",
      "include_colab_link": true
    },
    "kernelspec": {
      "name": "python3",
      "display_name": "Python 3"
    },
    "language_info": {
      "name": "python"
    }
  },
  "cells": [
    {
      "cell_type": "markdown",
      "metadata": {
        "id": "view-in-github",
        "colab_type": "text"
      },
      "source": [
        "<a href=\"https://colab.research.google.com/github/adityajhakumar/Heart-of-undead-/blob/main/aws.ipynb\" target=\"_parent\"><img src=\"https://colab.research.google.com/assets/colab-badge.svg\" alt=\"Open In Colab\"/></a>"
      ]
    },
    {
      "cell_type": "code",
      "execution_count": null,
      "metadata": {
        "colab": {
          "base_uri": "https://localhost:8080/"
        },
        "id": "mxqPy7GDLHy1",
        "outputId": "4a6bf3f0-410b-4535-a888-bf2a9b57dcba"
      },
      "outputs": [
        {
          "output_type": "stream",
          "name": "stdout",
          "text": [
            "smart_healthcare.png created\n",
            "smart_agriculture.png created\n",
            "industry_4_0.png created\n",
            "smart_cities.png created\n"
          ]
        }
      ],
      "source": [
        "from graphviz import Digraph\n",
        "def create_diagram(diagram_name, nodes, edges):\n",
        "    dot = Digraph(diagram_name, format='png')\n",
        "    for node, label in nodes.items():\n",
        "        dot.node(node, label)\n",
        "    for edge in edges:\n",
        "        dot.edge(edge[0], edge[1])\n",
        "    dot.render(diagram_name)\n",
        "    print(f\"{diagram_name}.png created\")\n",
        "nodes_healthcare = {\n",
        "    'A': 'IoT Devices (Wearables, Medical Equipment)',\n",
        "    'B': 'AWS IoT Core',\n",
        "    'C': 'Amazon Kinesis',\n",
        "    'D': 'Amazon RDS',\n",
        "    'E': 'AWS Lambda',\n",
        "    'F': 'Amazon SNS (Alerts)',\n",
        "    'G': 'Amazon SageMaker (Predictive Analytics)'\n",
        "}\n",
        "edges_healthcare = [\n",
        "    ('A', 'B'),\n",
        "    ('B', 'C'),\n",
        "    ('C', 'D'),\n",
        "    ('C', 'E'),\n",
        "    ('E', 'F'),\n",
        "    ('E', 'G')\n",
        "]\n",
        "create_diagram('smart_healthcare', nodes_healthcare, edges_healthcare)\n",
        "nodes_agriculture = {\n",
        "    'A': 'IoT Sensors (Soil, Temperature)',\n",
        "    'B': 'AWS IoT Greengrass',\n",
        "    'C': 'AWS Lambda',\n",
        "    'D': 'Amazon S3 (Data Storage)',\n",
        "    'E': 'Amazon SageMaker (Crop Prediction)',\n",
        "    'F': 'Amazon CloudWatch (Monitoring)',\n",
        "    'G': 'Amazon DynamoDB (Fast Storage)'\n",
        "}\n",
        "edges_agriculture = [\n",
        "    ('A', 'B'),\n",
        "    ('B', 'C'),\n",
        "    ('C', 'D'),\n",
        "    ('C', 'E'),\n",
        "    ('E', 'F'),\n",
        "    ('F', 'G')\n",
        "]\n",
        "create_diagram('smart_agriculture', nodes_agriculture, edges_agriculture)\n",
        "nodes_industry = {\n",
        "    'A': 'Industrial Machinery (IoT-enabled)',\n",
        "    'B': 'AWS IoT Core',\n",
        "    'C': 'AWS Lambda',\n",
        "    'D': 'Amazon DynamoDB (Telemetry Data)',\n",
        "    'E': 'Amazon Kinesis',\n",
        "    'F': 'Amazon SageMaker (Predictive Maintenance)',\n",
        "    'G': 'Amazon QuickSight (Visualization)'\n",
        "}\n",
        "edges_industry = [\n",
        "    ('A', 'B'),\n",
        "    ('B', 'C'),\n",
        "    ('C', 'D'),\n",
        "    ('C', 'E'),\n",
        "    ('E', 'F'),\n",
        "    ('F', 'G')\n",
        "]\n",
        "\n",
        "create_diagram('industry_4_0', nodes_industry, edges_industry)\n",
        "nodes_smart_cities = {\n",
        "    'A': 'Urban Sensors (Traffic, Pollution)',\n",
        "    'B': 'AWS IoT Core',\n",
        "    'C': 'Amazon Kinesis',\n",
        "    'D': 'Amazon RDS (City Data)',\n",
        "    'E': 'AWS Lambda',\n",
        "    'F': 'Amazon CloudWatch (Infrastructure Monitoring)',\n",
        "    'G': 'Amazon Athena (Data Analysis)'\n",
        "}\n",
        "\n",
        "edges_smart_cities = [\n",
        "    ('A', 'B'),\n",
        "    ('B', 'C'),\n",
        "    ('C', 'D'),\n",
        "    ('C', 'E'),\n",
        "    ('E', 'F'),\n",
        "    ('F', 'G')\n",
        "]\n",
        "create_diagram('smart_cities', nodes_smart_cities, edges_smart_cities)"
      ]
    },
    {
      "cell_type": "code",
      "source": [
        "pip install graphviz"
      ],
      "metadata": {
        "colab": {
          "base_uri": "https://localhost:8080/"
        },
        "id": "L02eVt55LNpb",
        "outputId": "5b18a891-c1a3-4132-b1fa-6fc6078e00f1"
      },
      "execution_count": null,
      "outputs": [
        {
          "output_type": "stream",
          "name": "stdout",
          "text": [
            "Requirement already satisfied: graphviz in /usr/local/lib/python3.10/dist-packages (0.20.3)\n"
          ]
        }
      ]
    }
  ]
}